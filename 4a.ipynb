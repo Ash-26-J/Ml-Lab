{
 "cells": [
  {
   "cell_type": "code",
   "execution_count": 20,
   "id": "0e729a71-b635-495f-866f-2cf9b7770941",
   "metadata": {},
   "outputs": [
    {
     "name": "stdout",
     "output_type": "stream",
     "text": [
      "Optimal value: 3\n",
      "Optimal path: [0, 1, 3]\n"
     ]
    }
   ],
   "source": [
    "class TreeNode:\n",
    "\n",
    "    def __init__(self, value, children=None):\n",
    "        self.value = value\n",
    "        self.children = children if children is not None else []\n",
    "\n",
    "def minimax(node, depth, maximizing_player):\n",
    "    \"\"\"\n",
    "    Returns the optimal value and the path leading to it.\n",
    "    \"\"\"\n",
    "    if depth == 0 or not node.children:\n",
    "        return node.value, [node.value]\n",
    "\n",
    "    if maximizing_player:\n",
    "        max_value = float(\"-inf\")\n",
    "        best_path = []\n",
    "        for child in node.children:\n",
    "            value, path = minimax(child, depth - 1, False)\n",
    "            if value > max_value:\n",
    "                max_value = value\n",
    "                best_path = [node.value] + path\n",
    "        return max_value, best_path\n",
    "\n",
    "    else:\n",
    "        min_value = float(\"inf\")\n",
    "        best_path = []\n",
    "        for child in node.children:\n",
    "            value, path = minimax(child, depth - 1, True)\n",
    "            if value < min_value:\n",
    "                min_value = value\n",
    "                best_path = [node.value] + path\n",
    "        return min_value, best_path\n",
    "\n",
    "\n",
    "# Build the game tree\n",
    "game_tree = TreeNode(0, [\n",
    "    TreeNode(1, [TreeNode(3), TreeNode(12)]),\n",
    "    TreeNode(4, [TreeNode(8), TreeNode(2)])\n",
    "])\n",
    "\n",
    "# Run Minimax\n",
    "optimal_value, optimal_path = minimax(game_tree, depth=2, maximizing_player=True)\n",
    "\n",
    "print(\"Optimal value:\", optimal_value)\n",
    "print(\"Optimal path:\", optimal_path)\n"
   ]
  },
  {
   "cell_type": "code",
   "execution_count": null,
   "id": "64084aaf-c45c-43ef-a841-3b41a76f3590",
   "metadata": {},
   "outputs": [],
   "source": [
    "Optimal value: 3\n",
    "Optimal path: [0, 1, 3]"
   ]
  }
 ],
 "metadata": {
  "kernelspec": {
   "display_name": "Python 3 (ipykernel)",
   "language": "python",
   "name": "python3"
  },
  "language_info": {
   "codemirror_mode": {
    "name": "ipython",
    "version": 3
   },
   "file_extension": ".py",
   "mimetype": "text/x-python",
   "name": "python",
   "nbconvert_exporter": "python",
   "pygments_lexer": "ipython3",
   "version": "3.12.7"
  }
 },
 "nbformat": 4,
 "nbformat_minor": 5
}
