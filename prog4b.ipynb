{
 "cells": [
  {
   "cell_type": "code",
   "execution_count": 1,
   "metadata": {},
   "outputs": [],
   "source": [
    "class TreeNode:\n",
    "    def __init__(self,value,children=[]):\n",
    "        self.value=value\n",
    "        self.children=children\n",
    "        self.alpha=float(\"-inf\")\n",
    "        self.beta=float(\"inf\")"
   ]
  },
  {
   "cell_type": "code",
   "execution_count": 2,
   "metadata": {},
   "outputs": [],
   "source": [
    "def alpha_beta(node,depth,alpha,beta,maximizing_player):\n",
    "    global pruned_count\n",
    "    if depth==0 or not node.children:  \n",
    "        return node.value,[node.value]\n",
    "    if maximizing_player:\n",
    "        max_value=float(\"-inf\")\n",
    "        max_path=[]\n",
    "        for child_node in node.children:\n",
    "            child_value,child_path=alpha_beta(child_node,depth-1,alpha,beta,False)\n",
    "            if child_value>max_value:\n",
    "                max_value=child_value\n",
    "                max_path=[node.value]+child_path\n",
    "            alpha=max(alpha,max_value)\n",
    "            if alpha>=beta:\n",
    "                pruned_count+=len(child_node.children)+1 \n",
    "                break\n",
    "        return max_value,max_path\n",
    "    else:\n",
    "        min_value=float(\"inf\")\n",
    "        min_path=[]\n",
    "        for child_node in node.children:\n",
    "            child_value,child_path=alpha_beta(child_node,depth-1,alpha,beta,True)\n",
    "            if child_value<min_value:\n",
    "                min_value=child_value\n",
    "                min_path=[node.value]+child_path\n",
    "            beta=min(beta,min_value)\n",
    "            if alpha>=beta:\n",
    "                pruned_count+=len(child_node.children)+1\n",
    "                break\n",
    "        return min_value,min_path"
   ]
  },
  {
   "cell_type": "code",
   "execution_count": null,
   "metadata": {},
   "outputs": [],
   "source": []
  }
 ],
 "metadata": {
  "kernelspec": {
   "display_name": "Python 3",
   "language": "python",
   "name": "python3"
  },
  "language_info": {
   "codemirror_mode": {
    "name": "ipython",
    "version": 3
   },
   "file_extension": ".py",
   "mimetype": "text/x-python",
   "name": "python",
   "nbconvert_exporter": "python",
   "pygments_lexer": "ipython3",
   "version": "3.7.4"
  }
 },
 "nbformat": 4,
 "nbformat_minor": 2
}
